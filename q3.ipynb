{
 "cells": [
  {
   "cell_type": "code",
   "execution_count": 4,
   "metadata": {},
   "outputs": [
    {
     "name": "stdout",
     "output_type": "stream",
     "text": [
      "\n",
      "1 2 \n",
      "3 4 \n"
     ]
    }
   ],
   "source": [
    "# using  normal list and append()\n",
    "mat1 = []\n",
    "\n",
    "# Taking row and column input\n",
    "row = int(input('Enter no. of rows : '))\n",
    "col = int(input('Enter no. of columns : '))\n",
    "\n",
    "# Taking element input\n",
    "for i in range(row):\n",
    "    t = []\n",
    "    for j in range(col):\n",
    "        val = int(input(f'Enter a{i}{j} : '))\n",
    "        t.append(val)\n",
    "    mat1.append(t)\n",
    "\n",
    "# Printing Matrix\n",
    "print()\n",
    "for i in range(row):\n",
    "    for j in range(col):\n",
    "        print(mat1[i][j],end=\" \")\n",
    "    print()"
   ]
  },
  {
   "cell_type": "code",
   "execution_count": 1,
   "metadata": {},
   "outputs": [
    {
     "name": "stdout",
     "output_type": "stream",
     "text": [
      "[[0, 0, 0], [0, 1, 2], [0, 2, 4]]\n"
     ]
    }
   ],
   "source": [
    "# using  entry function\n",
    "def entry(a, b):\n",
    "    return a*b\n",
    "\n",
    "    \n",
    "mat2 = [[entry(i, j) for j in range(3)] for i in range(3)]\n",
    "print(mat2)"
   ]
  }
 ],
 "metadata": {
  "kernelspec": {
   "display_name": "Python 3",
   "language": "python",
   "name": "python3"
  },
  "language_info": {
   "codemirror_mode": {
    "name": "ipython",
    "version": 3
   },
   "file_extension": ".py",
   "mimetype": "text/x-python",
   "name": "python",
   "nbconvert_exporter": "python",
   "pygments_lexer": "ipython3",
   "version": "3.10.5"
  },
  "orig_nbformat": 4
 },
 "nbformat": 4,
 "nbformat_minor": 2
}
